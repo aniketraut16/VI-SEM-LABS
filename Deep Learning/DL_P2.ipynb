{
  "nbformat": 4,
  "nbformat_minor": 0,
  "metadata": {
    "colab": {
      "provenance": [],
      "gpuType": "T4"
    },
    "kernelspec": {
      "name": "python3",
      "display_name": "Python 3"
    },
    "language_info": {
      "name": "python"
    },
    "accelerator": "GPU"
  },
  "cells": [
    {
      "cell_type": "markdown",
      "source": [
        "# DEEP LEARNING P2\n",
        "### Name: Aniket Raut\n",
        "### Roll no. : 22\n",
        "### Batch : B2\n"
      ],
      "metadata": {
        "id": "DWW1sqFZJVPN"
      }
    },
    {
      "cell_type": "markdown",
      "source": [
        "## Import libraries"
      ],
      "metadata": {
        "id": "0vpUgs36hG7j"
      }
    },
    {
      "cell_type": "code",
      "source": [
        "import numpy as np\n",
        "import pandas as pd\n",
        "from sklearn.model_selection import train_test_split\n",
        "from sklearn.preprocessing import StandardScaler\n",
        "from sklearn.metrics import accuracy_score, confusion_matrix, classification_report\n",
        "import matplotlib.pyplot as plt\n",
        "import seaborn as sns"
      ],
      "metadata": {
        "id": "4ykhdgjLdnkP"
      },
      "execution_count": 25,
      "outputs": []
    },
    {
      "cell_type": "markdown",
      "source": [
        "## Load the Iris dataset"
      ],
      "metadata": {
        "id": "b4jKQ23IhPUA"
      }
    },
    {
      "cell_type": "code",
      "source": [
        "df = pd.read_csv('iris.csv')"
      ],
      "metadata": {
        "id": "sfBRrNQEdynm"
      },
      "execution_count": 26,
      "outputs": []
    },
    {
      "cell_type": "markdown",
      "source": [
        "## Convert class labels to numeric values"
      ],
      "metadata": {
        "id": "2niXX1eZhVS7"
      }
    },
    {
      "cell_type": "code",
      "source": [
        "df['variety'] = pd.factorize(df['variety'])[0]"
      ],
      "metadata": {
        "id": "2C8nMyMAd6Yg"
      },
      "execution_count": 27,
      "outputs": []
    },
    {
      "cell_type": "markdown",
      "source": [
        "## Filter dataset for binary classification (Iris-setosa vs. Iris-versicolor)\n"
      ],
      "metadata": {
        "id": "7SEB39HxhbJ2"
      }
    },
    {
      "cell_type": "code",
      "source": [
        "df = df[df['variety'].isin([0, 1])]"
      ],
      "metadata": {
        "id": "9Iq9-reHeBuO"
      },
      "execution_count": 28,
      "outputs": []
    },
    {
      "cell_type": "markdown",
      "source": [
        "## Select features (\"sepal.length\" and \"sepal.width\") and target variable\n"
      ],
      "metadata": {
        "id": "391JgUfthe1T"
      }
    },
    {
      "cell_type": "code",
      "source": [
        "X = df[['sepal.length', 'sepal.width']]\n",
        "Y = df['variety']"
      ],
      "metadata": {
        "id": "ux9YM-66f8d4"
      },
      "execution_count": 29,
      "outputs": []
    },
    {
      "cell_type": "markdown",
      "source": [
        "## Split the data into training and testing sets\n"
      ],
      "metadata": {
        "id": "peoXHjiIhiFs"
      }
    },
    {
      "cell_type": "code",
      "source": [
        "X_train, X_test, Y_train, Y_test = train_test_split(X, Y, test_size=0.2, random_state=42)"
      ],
      "metadata": {
        "id": "r-xkJFVvgBI5"
      },
      "execution_count": 30,
      "outputs": []
    },
    {
      "cell_type": "markdown",
      "source": [
        "## MP Neuron Implementation"
      ],
      "metadata": {
        "id": "ZqKk_dBWhmLt"
      }
    },
    {
      "cell_type": "code",
      "source": [
        "class MPNeuron:\n",
        "    def __init__(self):\n",
        "        self.b = None\n",
        "\n",
        "    def model(self, x):\n",
        "        return (np.sum(x) >= self.b)\n",
        "\n",
        "    def predict(self, X):\n",
        "        Y = []\n",
        "        for _, row in X.iterrows():\n",
        "            result = self.model(row)\n",
        "            Y.append(result)\n",
        "        return np.array(Y)\n",
        "\n",
        "    def fit(self, X, Y):\n",
        "        accuracy = {}\n",
        "        for b in range(X.shape[1] + 1):\n",
        "            self.b = b\n",
        "            Y_pred = self.predict(X)\n",
        "            accuracy[b] = accuracy_score(Y, Y_pred)\n",
        "        self.b = max(accuracy, key=accuracy.get)\n",
        "        print(f\"[MP Neuron] Optimal value of b: {self.b}\")\n",
        "        print(f\"[MP Neuron] Highest accuracy on training set: {accuracy[self.b]}\")"
      ],
      "metadata": {
        "id": "ji_rfMCWgFoA"
      },
      "execution_count": 31,
      "outputs": []
    },
    {
      "cell_type": "markdown",
      "source": [
        "## Train and test MP Neuron model\n"
      ],
      "metadata": {
        "id": "4o13kMCyhulG"
      }
    },
    {
      "cell_type": "code",
      "source": [
        "print(\"------ MP Neuron Results ------\")\n",
        "mp_neuron = MPNeuron()\n",
        "mp_neuron.fit(X_train, Y_train)"
      ],
      "metadata": {
        "id": "OItqX_Migt_Q",
        "outputId": "0331a283-60f6-47b3-a7d1-add05b551d53",
        "colab": {
          "base_uri": "https://localhost:8080/"
        }
      },
      "execution_count": 32,
      "outputs": [
        {
          "output_type": "stream",
          "name": "stdout",
          "text": [
            "------ MP Neuron Results ------\n",
            "[MP Neuron] Optimal value of b: 0\n",
            "[MP Neuron] Highest accuracy on training set: 0.525\n"
          ]
        }
      ]
    },
    {
      "cell_type": "markdown",
      "source": [
        "## Predict and evaluate on test set\n"
      ],
      "metadata": {
        "id": "7lftowlWhw-P"
      }
    },
    {
      "cell_type": "code",
      "source": [
        "Y_test_pred_mp = mp_neuron.predict(X_test)\n",
        "accuracy_mp = accuracy_score(Y_test, Y_test_pred_mp)\n",
        "print(f\"[MP Neuron] Accuracy on test set: {accuracy_mp}\")"
      ],
      "metadata": {
        "id": "VjkCKmc_gu3f",
        "outputId": "3bfa0d5c-a68c-4d14-892c-2c9c96d35e69",
        "colab": {
          "base_uri": "https://localhost:8080/"
        }
      },
      "execution_count": 33,
      "outputs": [
        {
          "output_type": "stream",
          "name": "stdout",
          "text": [
            "[MP Neuron] Accuracy on test set: 0.4\n"
          ]
        }
      ]
    },
    {
      "cell_type": "markdown",
      "source": [
        "## Perceptron Learning Algorithm Implementation"
      ],
      "metadata": {
        "id": "SwZzSexxh0CE"
      }
    },
    {
      "cell_type": "code",
      "source": [
        "class Perceptron:\n",
        "    def __init__(self, learning_rate=0.01, epochs=100):\n",
        "        self.learning_rate = learning_rate\n",
        "        self.epochs = epochs\n",
        "        self.weights = None\n",
        "        self.bias = None\n",
        "\n",
        "    def fit(self, X, Y):\n",
        "        num_samples, num_features = X.shape\n",
        "        self.weights = np.zeros(num_features)\n",
        "        self.bias = 0\n",
        "\n",
        "        for _ in range(self.epochs):\n",
        "            for idx, x_i in enumerate(X):\n",
        "                linear_output = np.dot(x_i, self.weights) + self.bias\n",
        "                y_pred = 1 if linear_output >= 0 else 0\n",
        "                update = self.learning_rate * (Y[idx] - y_pred)\n",
        "                self.weights += update * x_i\n",
        "                self.bias += update\n",
        "\n",
        "    def predict(self, X):\n",
        "        linear_output = np.dot(X, self.weights) + self.bias\n",
        "        return np.where(linear_output >= 0, 1, 0)"
      ],
      "metadata": {
        "id": "UT6p_rlkgLn5"
      },
      "execution_count": 34,
      "outputs": []
    },
    {
      "cell_type": "markdown",
      "source": [
        "## Standardize features for Perceptron\n"
      ],
      "metadata": {
        "id": "WAJBl9Jvh8lr"
      }
    },
    {
      "cell_type": "code",
      "source": [
        "scaler = StandardScaler()\n",
        "X_train_scaled = scaler.fit_transform(X_train)\n",
        "X_test_scaled = scaler.transform(X_test)"
      ],
      "metadata": {
        "id": "VfSMFsZpg1Yp"
      },
      "execution_count": 35,
      "outputs": []
    },
    {
      "cell_type": "markdown",
      "source": [
        "## Train and test Perceptron model\n"
      ],
      "metadata": {
        "id": "aDnzb_RYh_Rv"
      }
    },
    {
      "cell_type": "code",
      "source": [
        "perceptron = Perceptron(learning_rate=0.01, epochs=1000)\n",
        "perceptron.fit(X_train_scaled, Y_train.values)"
      ],
      "metadata": {
        "id": "4aoxqvo8g5gN"
      },
      "execution_count": 36,
      "outputs": []
    },
    {
      "cell_type": "markdown",
      "source": [
        "## Predict and evaluate on test set\n"
      ],
      "metadata": {
        "id": "zcnFRQkkiDUy"
      }
    },
    {
      "cell_type": "code",
      "source": [
        "Y_test_pred_perceptron = perceptron.predict(X_test_scaled)\n",
        "accuracy_perceptron = accuracy_score(Y_test, Y_test_pred_perceptron)\n",
        "print(\"------ Perceptron Results ------\")\n",
        "print(f\"[Perceptron] Accuracy on test set: {accuracy_perceptron}\")"
      ],
      "metadata": {
        "id": "8M5IzeSHg8lw",
        "outputId": "272117ef-31f9-400a-ab05-30d03482e158",
        "colab": {
          "base_uri": "https://localhost:8080/"
        }
      },
      "execution_count": 37,
      "outputs": [
        {
          "output_type": "stream",
          "name": "stdout",
          "text": [
            "------ Perceptron Results ------\n",
            "[Perceptron] Accuracy on test set: 1.0\n"
          ]
        }
      ]
    },
    {
      "cell_type": "markdown",
      "source": [
        "## Confusion matrix and classification report"
      ],
      "metadata": {
        "id": "hayVURTtiIdW"
      }
    },
    {
      "cell_type": "code",
      "source": [
        "print(\"Confusion Matrix (Perceptron):\\n\", confusion_matrix(Y_test, Y_test_pred_perceptron))\n",
        "print(\"Classification Report (Perceptron):\\n\", classification_report(Y_test, Y_test_pred_perceptron))"
      ],
      "metadata": {
        "id": "XEvxRQX6g_WO",
        "outputId": "4a601e4a-f8c2-4040-beb7-0ae65221eb7b",
        "colab": {
          "base_uri": "https://localhost:8080/"
        }
      },
      "execution_count": 38,
      "outputs": [
        {
          "output_type": "stream",
          "name": "stdout",
          "text": [
            "Confusion Matrix (Perceptron):\n",
            " [[12  0]\n",
            " [ 0  8]]\n",
            "Classification Report (Perceptron):\n",
            "               precision    recall  f1-score   support\n",
            "\n",
            "           0       1.00      1.00      1.00        12\n",
            "           1       1.00      1.00      1.00         8\n",
            "\n",
            "    accuracy                           1.00        20\n",
            "   macro avg       1.00      1.00      1.00        20\n",
            "weighted avg       1.00      1.00      1.00        20\n",
            "\n"
          ]
        }
      ]
    },
    {
      "cell_type": "markdown",
      "source": [
        "## Visualizing Perceptron Decision Boundary"
      ],
      "metadata": {
        "id": "C0M-6xUBiNSK"
      }
    },
    {
      "cell_type": "code",
      "source": [
        "def plot_decision_boundary(X, Y, model, title):\n",
        "    x_min, x_max = X[:, 0].min() - 1, X[:, 0].max() + 1\n",
        "    y_min, y_max = X[:, 1].min() - 1, X[:, 1].max() + 1\n",
        "    xx, yy = np.meshgrid(np.arange(x_min, x_max, 0.01),\n",
        "                         np.arange(y_min, y_max, 0.01))\n",
        "    grid = np.c_[xx.ravel(), yy.ravel()]\n",
        "    grid_predictions = model.predict(grid)\n",
        "    grid_predictions = grid_predictions.reshape(xx.shape)\n",
        "\n",
        "    plt.figure(figsize=(8, 6))\n",
        "    plt.contourf(xx, yy, grid_predictions, alpha=0.8, cmap='coolwarm')\n",
        "    plt.scatter(X[:, 0], X[:, 1], c=Y, edgecolor='k', cmap='coolwarm')\n",
        "    plt.xlabel('Sepal Length (standardized)')\n",
        "    plt.ylabel('Sepal Width (standardized)')\n",
        "    plt.title(title)\n",
        "    plt.show()"
      ],
      "metadata": {
        "id": "uLrUo-G0hB19"
      },
      "execution_count": 39,
      "outputs": []
    },
    {
      "cell_type": "markdown",
      "source": [
        "## Combine train and test sets for visualization and Plotting decision boundary\n"
      ],
      "metadata": {
        "id": "Vb9vj-V7iTkv"
      }
    },
    {
      "cell_type": "code",
      "source": [
        "X_combined = np.vstack((X_train_scaled, X_test_scaled))\n",
        "Y_combined = np.hstack((Y_train, Y_test))\n",
        "\n",
        "plot_decision_boundary(X_combined, Y_combined, perceptron, \"Perceptron Decision Boundary\")"
      ],
      "metadata": {
        "id": "W1KKh7zohFTd",
        "outputId": "3b6ed66f-f2ad-41e0-c804-ce2140c10351",
        "colab": {
          "base_uri": "https://localhost:8080/",
          "height": 564
        }
      },
      "execution_count": 40,
      "outputs": [
        {
          "output_type": "display_data",
          "data": {
            "text/plain": [
              "<Figure size 800x600 with 1 Axes>"
            ],
            "image/png": "[encoded data removed]"
          },
          "metadata": {}
        }
      ]
    }
  ]
}